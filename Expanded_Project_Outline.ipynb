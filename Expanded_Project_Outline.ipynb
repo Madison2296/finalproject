{
 "cells": [
  {
   "cell_type": "markdown",
   "metadata": {},
   "source": [
    "# Expanded Project Outline\n",
    "\n",
    "## Introduction\n",
    "\n",
    "#### Main Question:\n",
    "\n",
    "how do fossil records of birds and mammals compare over earth's history?\n",
    "\n",
    "#### Sources\n",
    "\n",
    "http://journals.plos.org/plosbiology/article?id=10.1371/journal.pbio.1001775\n",
    "\n",
    "http://bmcevolbiol.biomedcentral.com/articles/10.1186/s12862-015-0289-1\n",
    "\n",
    "https://academic.oup.com/bioscience/article/57/6/523/236231/The-Role-of-Climatic-Change-in-the-Evolution-of\n",
    "\n",
    "#### Data Files\n",
    "\n",
    "list data files and what is in them. Note where they were retrieved from\n",
    "\n",
    "#### Cleaning Data\n",
    "\n",
    "use \"tail -n +19 filename > cleaned_filename\" to remove the header from data and create a new file without the header. The number of lines removed with tail may change depending on the data file.\n",
    "\n",
    "## Exploring the Timeline of Fossil Records\n",
    "\n",
    "#### Manipulating data\n",
    "\n",
    "use the following to make a new file with the species and then age range\n",
    "\n",
    "```\n",
    "def ages_dict(filename):\n",
    "    newfile = filename\n",
    "    with open(newfile, 'r') as ff:\n",
    "        canid_recs = ff.readlines() #open file\n",
    "    from collections import defaultdict #download default dict\n",
    "\n",
    "    species_ages = defaultdict(list) #make \n",
    "\n",
    "    for line in canid_recs:\n",
    "        taxon = line.split(\",\")[6]\n",
    "        if taxon == '\"species\"':\n",
    "            species = line.split(\",\")[5]\n",
    "            minage = line.split('\",\"')[10]\n",
    "            maxage = line.split('\",\"')[11]\n",
    "            mean_age = (float(minage) + float(maxage)) / 2\n",
    "            species_ages[species].append(mean_age)\n",
    "    return(species_ages)\n",
    "    \n",
    "def range_file(filename, dictname):\n",
    "    output = open(filename, \"w\")\n",
    "\n",
    "    for key in dictname.keys():\n",
    "        ages = dictname[key]\n",
    "        minage = min(ages)\n",
    "        maxage = max(ages)\n",
    "        genus = key.replace('\"','').split(\" \")[0]\n",
    "        species = key.replace('\"','')\n",
    "        outline = \"{},{},{},{}\\n\".format(genus,species,minage,maxage)\n",
    "        output.write(outline)\n",
    "    output.close()\n",
    "```\n",
    "\n",
    "#### Creaing Figures\n",
    "\n",
    "still need to figure out how to make a graph out of the first dictionary, maybe in python instead of R?\n",
    "\n",
    "Figure 2: (made in R)\n",
    "\n",
    "the code used to render the graph\n",
    "```\n",
    "aves <- read.csv(\"/home/eeb177-student/Desktop/eeb-177/eeb-177-final-project/aves_ranges.csv\", header = F, as.is = T) #read in the file\n",
    "names(aves) <- c(\"genus\", \"species\", \"minage\", \"maxage\") #name the categories\n",
    "ggplot(aves, aes(species, ymin = maxage, ymax = minage, colour = genus)) + geom_linerange() + theme(legend.position=\"none\") + coord_flip() + theme(axis.text.y = element_text(size=3)) + theme(axis.ticks.y = element_blank()) + scale_y_continuous(limits=c(0, 40), expand = c(0, 0), breaks=c(0, 10, 20, 30, 40)) + labs(title = \"Aves Fossil Occurrences\", x = \"Species\", y = \"Ma ago\") + theme(plot.title = element_text(hjust = 0.5, size=22, face = \"bold\"), axis.title =element_text(size=20))\n",
    "```\n",
    "the graph itself\n",
    "\n",
    "<img src=\"aves-occ.png\">\n",
    "\n",
    "do a bar graph of richness with both taxons\n",
    "\n",
    "\n",
    "## Exploring Speciation and Extinction Rates\n",
    "\n",
    "#### Manipulating Data\n",
    "\n",
    "first, switch the active terminal to python 2.7 using the following unix code\n",
    "\n",
    "```\n",
    "source activate py27\n",
    "```\n",
    "\n",
    "Then, we need to write an R script which will reformat our data so it can be used by PyRate. save as a .R file\n",
    "\n",
    "```\n",
    "source(\"~/PyRate/pyrate_utilities.r\")\n",
    "\n",
    "extant_birds = c(\"list of extinct species\") #find out how we know which species are extinct?, we can also substitute birds for mammals depending on which file we are using\n",
    "\n",
    "extract.ages.pbdb(file= \"filename\", extant_species=extant_birds)\n",
    "```\n",
    "\n",
    "Run PyRate using our newly created .py file from our R script and 1000000 steps (this is in unix again)\n",
    "\n",
    "```\n",
    "python ~/PyRate/PyRate.py bird_occ_PyRate.py -n 1000000 #again, if we had used mmammal data our new file would be mammal_occ_PyRate.py\n",
    "```\n",
    "\n",
    "\n",
    "#### Creating Figures\n",
    "\n",
    "now we need to create figures from our data, this will be stored in a pdf file\n",
    "\n",
    "```\n",
    "python ~/PyRate/PyRate.py -plot bird_occ_1_marginal_rates.log\n",
    "```\n",
    "\n",
    "our new file is now called bird_occ_1_marginal_rates_RTT.pdf\n",
    "\n",
    "can we combine these two graphs?\n",
    "\n",
    "## Exploring the location of fossil records\n",
    "\n",
    "#### Manipulating Data\n",
    "```\n",
    "def locations(openfile, writefile):\n",
    "    newfile = openfile\n",
    "    output = open(writefile, \"w\")\n",
    "    with open(newfile, 'r') as ff:\n",
    "        readfile = ff.readlines() # open and read file\n",
    "    for line in readfile: #go through each line\n",
    "        taxon = line.split(\",\")[9]\n",
    "        if taxon == '\"species\"': #only continue if the line contains a species\n",
    "            species = line.split(\",\")[8].replace('\"','') #extract species names\n",
    "            genus = species.split(\" \")[0]\n",
    "            lat = line.split(\",\")[18].replace('\"','') #extract species time period\n",
    "            lng = line.split(\",\")[17].replace('\"','')\n",
    "            outline = \"{},{},{}\\n\".format(genus,lat,lng)\n",
    "            output.write(outline)\n",
    "    output.close()\n",
    "```\n",
    "#### Creating Images\n",
    "use lat and lng as x and y points on a graphs\n",
    "\n",
    "## Conclusion\n",
    "\n",
    "explain what has been found through these graphs"
   ]
  },
  {
   "cell_type": "code",
   "execution_count": 19,
   "metadata": {
    "collapsed": true
   },
   "outputs": [],
   "source": [
    "#proving that a portion of my code is fuctional\n",
    "def names_times(filename):\n",
    "    newfile = filename\n",
    "    with open(newfile, 'r') as ff:\n",
    "        readfile = ff.readlines()# open and read file\n",
    "        \n",
    "    from collections import defaultdict\n",
    "    \n",
    "    names_times_dict = defaultdict(list) #make a dictionary that with a value that is a list\n",
    "    \n",
    "    for line in readfile: #go through each line\n",
    "        taxon = line.split(\",\")[6]\n",
    "        if taxon == '\"species\"': #only continue if the line contains a species\n",
    "            species = line.split(\",\")[5] #extract species names\n",
    "            time = line.split(\",\")[8] #extract species time period\n",
    "            names_times_dict[time].append(species) #make a dictionary out of species names and time periods\n",
    "    return names_times_dict"
   ]
  },
  {
   "cell_type": "code",
   "execution_count": 21,
   "metadata": {
    "collapsed": false
   },
   "outputs": [],
   "source": [
    "dict = names_times('cleaned-aves.csv')"
   ]
  },
  {
   "cell_type": "code",
   "execution_count": 26,
   "metadata": {
    "collapsed": false
   },
   "outputs": [],
   "source": [
    "def ages_file(filename, dictname):\n",
    "    output = open(filename, \"w\")\n",
    "\n",
    "    for key in dictname.keys():\n",
    "        ages = key.replace('\"','')\n",
    "        species = len(dictname[key])\n",
    "        outline = \"{},{}\\n\".format(ages,species)\n",
    "        output.write(outline)\n",
    "    output.close()"
   ]
  },
  {
   "cell_type": "code",
   "execution_count": 27,
   "metadata": {
    "collapsed": false
   },
   "outputs": [],
   "source": [
    "ages_file('aves_ages.csv', dict)"
   ]
  },
  {
   "cell_type": "code",
   "execution_count": 77,
   "metadata": {
    "collapsed": false
   },
   "outputs": [],
   "source": [
    "def locations(openfile, writefile):\n",
    "    newfile = openfile\n",
    "    output = open(writefile, \"w\")\n",
    "    with open(newfile, 'r') as ff:\n",
    "        readfile = ff.readlines() # open and read file\n",
    "    for line in readfile: #go through each line\n",
    "        taxon = line.split(\",\")[9]\n",
    "        if taxon == '\"species\"': #only continue if the line contains a species\n",
    "            species = line.split(\",\")[8].replace('\"','') #extract species names\n",
    "            genus = species.split(\" \")[0]\n",
    "            lat = line.split(\",\")[18].replace('\"','') #extract species time period\n",
    "            lng = line.split(\",\")[17].replace('\"','')\n",
    "            outline = \"{},{},{}\\n\".format(genus,lat,lng)\n",
    "            output.write(outline)\n",
    "    output.close()"
   ]
  },
  {
   "cell_type": "code",
   "execution_count": 78,
   "metadata": {
    "collapsed": false
   },
   "outputs": [],
   "source": [
    "locations('cleaned_laura_locations.csv', 'laura_genus_locations.csv')"
   ]
  },
  {
   "cell_type": "code",
   "execution_count": 47,
   "metadata": {
    "collapsed": false
   },
   "outputs": [],
   "source": [
    "locations('cleaned_aves_locations.csv', 'aves_genus_locations.csv')"
   ]
  },
  {
   "cell_type": "markdown",
   "metadata": {},
   "source": [
    "### for the Lightning Presentation\n",
    "\n",
    "#### Requirements\n",
    "\n",
    "figure, active code, describe type of data, link to git hub, big picture(research)\n",
    "\n",
    "#### Content\n",
    "\n",
    "use the dictionary from the first function\n",
    "\n",
    "baseplot in matplot lib"
   ]
  },
  {
   "cell_type": "code",
   "execution_count": 48,
   "metadata": {
    "collapsed": false
   },
   "outputs": [
    {
     "ename": "ImportError",
     "evalue": "No module named 'mpl_toolkits.basemap'",
     "output_type": "error",
     "traceback": [
      "\u001b[0;31m---------------------------------------------------------------------------\u001b[0m",
      "\u001b[0;31mImportError\u001b[0m                               Traceback (most recent call last)",
      "\u001b[0;32m<ipython-input-48-5e6824321d57>\u001b[0m in \u001b[0;36m<module>\u001b[0;34m()\u001b[0m\n\u001b[0;32m----> 1\u001b[0;31m \u001b[0;32mfrom\u001b[0m \u001b[0mmpl_toolkits\u001b[0m\u001b[0;34m.\u001b[0m\u001b[0mbasemap\u001b[0m \u001b[0;32mimport\u001b[0m \u001b[0mBasemap\u001b[0m\u001b[0;34m\u001b[0m\u001b[0m\n\u001b[0m",
      "\u001b[0;31mImportError\u001b[0m: No module named 'mpl_toolkits.basemap'"
     ]
    }
   ],
   "source": [
    "from mpl_toolkits.basemap import Basemap"
   ]
  },
  {
   "cell_type": "code",
   "execution_count": 63,
   "metadata": {
    "collapsed": false
   },
   "outputs": [],
   "source": [
    "def extant_species_list(filename):\n",
    "    import numpy\n",
    "    with open(filename, 'r') as ff:\n",
    "        readfile = ff.readlines()\n",
    "    extant_species = []\n",
    "    cleaned_extant_list = []\n",
    "    for line in readfile:\n",
    "        taxon = line.split(\",\")[6]\n",
    "        min_ma = line.split(\",\")[11]\n",
    "        if taxon == '\"species\"' and min_ma == '\"0\"':\n",
    "            species_name = line.split(\",\")[5].replace('\"','')\n",
    "            extant_species.append(species_name)\n",
    "    extant_list = numpy.unique(extant_species)\n",
    "    for item in extant_list:\n",
    "        cleaned_extant_list.append(item)\n",
    "    print(cleaned_extant_list)"
   ]
  },
  {
   "cell_type": "code",
   "execution_count": 75,
   "metadata": {
    "collapsed": false
   },
   "outputs": [
    {
     "name": "stdout",
     "output_type": "stream",
     "text": [
      "['Acinonyx jubatus', 'Alopex lagopus', 'Amblonyx cinerea', 'Antrozous pallidus', 'Aonyx capensis', 'Arctocephalus forsteri', 'Arctocephalus gazella', 'Arctocephalus pusillus', 'Arctocephalus townsendi', 'Arctodus simus', 'Arctotherium (Pararctotherium) brasiliense', 'Arctotherium wingei', 'Artibeus jamaicensis', 'Atilax paludinosus', 'Bassaricyon gabbii', 'Bassariscus astutus', 'Blarina brevicauda', 'Brachyprotoma obtusata', 'Callorhinus ursinus', 'Canis adustus', 'Canis anthus', 'Canis aureus', 'Canis familiaris', 'Canis latrans', 'Canis lupus', 'Canis mesomelas', 'Caracal caracal', 'Caracal serval', 'Cerdocyon thous', 'Chrotopterus auritus', 'Chrysocyon brachyurus', 'Civettictis civetta', 'Conepatus semistriatus', 'Crocuta crocuta', 'Cryptoprocta ferox', 'Cryptotis parva', 'Cubacyon transversidens', 'Cynictis penicillata', 'Cystophora cristata', 'Desmodus draculae', 'Desmodus rotundus', 'Eira barbara', 'Enhydra lutris', 'Eptesicus fuscus', 'Erignathus barbatus', 'Eumetopias jubata', 'Eumops glaucinus', 'Eumops perotis', 'Felis libyca', 'Felis silvestris', 'Fossa fossana', 'Galictis vittata', 'Genetta genetta', 'Genetta tigrina', 'Gulo gulo', 'Halichoerus grypus', 'Herpestes ichneumon', 'Herpestes pulverulentus', 'Herpestes sanguineus', 'Histriophoca fasciata', 'Hyaena hyaena', 'Hydrurga leptonyx', 'Ichneumia albicauda', 'Ictonyx striatus', 'Lasionycteris noctivagans', 'Lasiurus borealis', 'Leopardus braccatus', 'Leopardus pardalis', 'Leopardus tigrinus', 'Leopardus wiedii', 'Leptonychotes weddelli', 'Lobodon carcinophaga', 'Lontra canadensis', 'Lontra longicaudis', 'Lutra lutra', 'Lutra maculicollis', 'Lycaon pictus', 'Lynx lynx', 'Lynx rufus', 'Martes martes', 'Martes zibellina', 'Meles meles', 'Mellivora capensis', 'Mephitis macroura', 'Mephitis mephitis', 'Mirounga angustirostris', 'Mirounga leonina', 'Monachus monachus', 'Mungos mungo', 'Mustela americana', 'Mustela erminea', 'Mustela frenata', 'Mustela nigripes', 'Mustela nivalis', 'Mustela vison', 'Myotis grisescens', 'Myotis lucifugus', 'Myotis velifer', 'Nasua nasua', 'Neomonachus schauinslandi', 'Neomonachus tropicalis', 'Neomys fodiens', 'Neophoca cinerea', 'Noctilio albiventris', 'Noctilio leporinus', 'Notiosorex crawfordi', 'Nyctereutes procyonoides', 'Odobenus rosmarus', 'Ommatophoca rossii', 'Otaria byronia', 'Otocyon megalotis', 'Pagophilus groenlandica', 'Paguma larvata', 'Panthera leo', 'Panthera onca', 'Panthera pardus', 'Panthera tigris', 'Parahyaena brunnea', 'Pekania pennanti', 'Phoca caspica', 'Phoca hispida', 'Phoca largha', 'Phoca vitulina', 'Phocarctos hookeri', 'Pipistrellus hesperus', 'Pipistrellus subflavus', 'Plecotus townsendii', 'Potos flavus', 'Procyon cancrivorus', 'Procyon lotor', 'Protocyon troglodytes', 'Pseudalopex gymnocercus', 'Pteronura brasiliensis', 'Puma concolor', 'Puma yagouaroundi', 'Pusa hispida', 'Pusa sibirica', 'Sardolutra ichnusae', 'Smilodon fatalis', 'Smilodon populator', 'Sorex arcticus', 'Sorex cinereus', 'Sorex dispar', 'Sorex fumeus', 'Sorex hoyi', 'Sorex palustris', 'Speothos venaticus', 'Spilogale putorius', 'Tadarida brasiliensis', 'Taxidea taxus', 'Trachops cirrhosus', 'Tremarctos floridanus', 'Urocyon cinereoargenteus', 'Ursus americanus', 'Ursus arctos', 'Ursus maritimus', 'Vulpes chama', 'Vulpes velox', 'Vulpes vulpes', 'Zalophus californianus']\n"
     ]
    }
   ],
   "source": [
    "extant_species_list('cleaned_laura.csv')"
   ]
  },
  {
   "cell_type": "code",
   "execution_count": 93,
   "metadata": {
    "collapsed": true
   },
   "outputs": [],
   "source": [
    "from collections import defaultdict"
   ]
  },
  {
   "cell_type": "code",
   "execution_count": 1,
   "metadata": {
    "collapsed": false,
    "scrolled": true
   },
   "outputs": [],
   "source": [
    "def ages_dict(filename):\n",
    "    newfile = filename\n",
    "    with open(newfile, 'r') as ff:\n",
    "        canid_recs = ff.readlines() #open file\n",
    "    from collections import defaultdict #download default dict\n",
    "\n",
    "    species_ages = defaultdict(list) #make \n",
    "\n",
    "    for line in canid_recs:\n",
    "        taxon = line.split(\",\")[6]\n",
    "        if taxon == '\"species\"':\n",
    "            species = line.split(\",\")[5]\n",
    "            minage = line.split('\",\"')[10]\n",
    "            maxage = line.split('\",\"')[11]\n",
    "            mean_age = (float(minage) + float(maxage)) / 2\n",
    "            species_ages[species].append(mean_age)\n",
    "    return(species_ages)"
   ]
  },
  {
   "cell_type": "code",
   "execution_count": 2,
   "metadata": {
    "collapsed": false
   },
   "outputs": [],
   "source": [
    "laura_dict = ages_dict('/home/eeb177-student/Desktop/eeb-177/eeb-177-final-project/cleaned-aves.csv')"
   ]
  },
  {
   "cell_type": "code",
   "execution_count": 3,
   "metadata": {
    "collapsed": true
   },
   "outputs": [],
   "source": [
    "def range_file(filename, dictname):\n",
    "    output = open(filename, \"w\")\n",
    "\n",
    "    for key in dictname.keys():\n",
    "        ages = dictname[key]\n",
    "        minage = min(ages)\n",
    "        maxage = max(ages)\n",
    "        genus = key.replace('\"','').split(\" \")[0]\n",
    "        species = key.replace('\"','')\n",
    "        outline = \"{},{},{},{}\\n\".format(genus,species,minage,maxage)\n",
    "        output.write(outline)\n",
    "    output.close()"
   ]
  },
  {
   "cell_type": "code",
   "execution_count": 4,
   "metadata": {
    "collapsed": true
   },
   "outputs": [],
   "source": [
    "range_file('aves_ranges.csv', laura_dict)"
   ]
  },
  {
   "cell_type": "code",
   "execution_count": null,
   "metadata": {
    "collapsed": true
   },
   "outputs": [],
   "source": []
  }
 ],
 "metadata": {
  "anaconda-cloud": {},
  "kernelspec": {
   "display_name": "Python [default]",
   "language": "python",
   "name": "python3"
  },
  "language_info": {
   "codemirror_mode": {
    "name": "ipython",
    "version": 3
   },
   "file_extension": ".py",
   "mimetype": "text/x-python",
   "name": "python",
   "nbconvert_exporter": "python",
   "pygments_lexer": "ipython3",
   "version": "3.5.2"
  }
 },
 "nbformat": 4,
 "nbformat_minor": 2
}
