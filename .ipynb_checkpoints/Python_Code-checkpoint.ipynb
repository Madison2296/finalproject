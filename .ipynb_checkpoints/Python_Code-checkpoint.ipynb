{
 "cells": [
  {
   "cell_type": "code",
   "execution_count": 4,
   "metadata": {
    "collapsed": true
   },
   "outputs": [],
   "source": [
    "def locations(openfile, writefile):\n",
    "    newfile = openfile\n",
    "    output = open(writefile, \"w\")\n",
    "    with open(newfile, 'r') as ff:\n",
    "        readfile = ff.readlines() # open and read file\n",
    "    for line in readfile: #go through each line\n",
    "        taxon = line.split(\",\")[9]\n",
    "        if taxon == '\"species\"': #only continue if the line contains a species\n",
    "            species = line.split(\",\")[8].replace('\"','') #extract species names\n",
    "            genus = species.split(\" \")[0]\n",
    "            lat = line.split(\",\")[18].replace('\"','') #extract the latitude\n",
    "            lng = line.split(\",\")[17].replace('\"','') #extract the latitude\n",
    "            outline = \"{},{},{}\\n\".format(genus,lat,lng) #write the format\n",
    "            output.write(outline) #write to the file\n",
    "    output.close()"
   ]
  },
  {
   "cell_type": "code",
   "execution_count": 5,
   "metadata": {
    "collapsed": true
   },
   "outputs": [],
   "source": [
    "locations(\"cleaned_aves_locations.csv\", \"aves_genus_locations.csv\")\n",
    "locations(\"cleaned_laura_locations.csv\", \"laura_genus_locations.csv\")"
   ]
  },
  {
   "cell_type": "code",
   "execution_count": 6,
   "metadata": {
    "collapsed": true
   },
   "outputs": [],
   "source": [
    "def ages_dict(filename):\n",
    "    newfile = filename\n",
    "    with open(newfile, 'r') as ff:\n",
    "        canid_recs = ff.readlines() #open file\n",
    "    from collections import defaultdict #download default dict\n",
    "\n",
    "    species_ages = defaultdict(list) #make an empty dictionary\n",
    "\n",
    "    for line in canid_recs:\n",
    "        taxon = line.split(\",\")[6]\n",
    "        if taxon == '\"species\"': #only continue if the line contains a species\n",
    "            species = line.split(\",\")[5] #extract species name\n",
    "            minage = line.split('\",\"')[10] #extract upper age estimate\n",
    "            maxage = line.split('\",\"')[11] #extract lower age estimate\n",
    "            mean_age = (float(minage) + float(maxage)) / 2 #find the average of the age estimates\n",
    "            species_ages[species].append(mean_age) #if the species is not already in the dictionary, make a new key with the species name and add the mean age as the value. If the species is in the dictionary ad the mean age to the value list\n",
    "    return(species_ages)"
   ]
  },
  {
   "cell_type": "code",
   "execution_count": 8,
   "metadata": {
    "collapsed": false
   },
   "outputs": [],
   "source": [
    "aves_dict = ages_dict(\"cleaned-aves.csv\")\n",
    "laura_dict = ages_dict(\"cleaned_laura.csv\")"
   ]
  },
  {
   "cell_type": "code",
   "execution_count": 9,
   "metadata": {
    "collapsed": true
   },
   "outputs": [],
   "source": [
    "def range_file(filename, dictname):\n",
    "    output = open(filename, \"w\")\n",
    "\n",
    "    for key in dictname.keys():\n",
    "        ages = dictname[key]\n",
    "        minage = min(ages) #extract lowest age\n",
    "        maxage = max(ages) #extract highest age\n",
    "        genus = key.replace('\"','').split(\" \")[0] #extract genus\n",
    "        species = key.replace('\"','') #extract species\n",
    "        outline = \"{},{},{},{}\\n\".format(genus,species,minage,maxage) #write format\n",
    "        output.write(outline) #write to new file\n",
    "    output.close()"
   ]
  },
  {
   "cell_type": "code",
   "execution_count": 11,
   "metadata": {
    "collapsed": false
   },
   "outputs": [],
   "source": [
    "range_file(\"aves_ranges.csv\", aves_dict)\n",
    "range_file(\"laura_ranges.csv\", laura_dict)"
   ]
  },
  {
   "cell_type": "code",
   "execution_count": 12,
   "metadata": {
    "collapsed": true
   },
   "outputs": [],
   "source": [
    "def extant_species_list(filename):\n",
    "    import numpy\n",
    "    with open(filename, 'r') as ff:\n",
    "        readfile = ff.readlines() #read the file\n",
    "    extant_species = [] #create our primary list\n",
    "    cleaned_extant_list = [] #create a cleaned list\n",
    "    for line in readfile:\n",
    "        taxon = line.split(\",\")[6] \n",
    "        min_ma = line.split(\",\")[11]\n",
    "        if taxon == '\"species\"' and min_ma == '\"0\"': #only continue if the occurance is a species and its minimum age is 0\n",
    "            species_name = line.split(\",\")[5].replace('\"','') #identify the species name\n",
    "            extant_species.append(species_name) #add the species name to the primary list\n",
    "    extant_list = numpy.unique(extant_species) #once the list is complete remove any repetitions of species names so that each name is unique\n",
    "    for item in extant_list:\n",
    "        cleaned_extant_list.append(item) #turn this list of unique names into a new list\n",
    "    print(cleaned_extant_list) #print the list"
   ]
  },
  {
   "cell_type": "code",
   "execution_count": 13,
   "metadata": {
    "collapsed": false
   },
   "outputs": [
    {
     "name": "stdout",
     "output_type": "stream",
     "text": [
      "['Accipiter fasciatus', 'Accipiter gentilis', 'Accipiter striatus', 'Aegolius acadicus', 'Aegotheles novaezealandiae', 'Alca torda', 'Alle alle', 'Anas acuta', 'Anas chlorotis', 'Anas crecca', 'Anas platyrhynchos', 'Anomalopteryx didiformis', 'Anser albifrons', 'Anthochaera carunculata', 'Anthochaera chrysoptera', 'Anthornis melanura', 'Apteribis brevis', 'Apteribis glenos', 'Aquila chrysaetos', 'Ardea herodias', 'Asio flammeus', 'Atlantisia podarces', 'Bonasa umbellus', 'Branta canadensis', 'Branta hylobadistes', 'Bubo sinclairi', 'Bubo virginianus', 'Bulweria bifax', 'Buteo buteo', 'Buteo jamaicensis', 'Cacatua roseicapilla', 'Cacatua tenuirostris', 'Caracara creightoni', 'Caracara plancus', 'Cathartes aura', 'Cepphus columba', 'Charadrius sanctaehelenae', 'Chelychelynechen quassus', 'Chenonetta finschi', 'Cinclosoma punctatum', 'Cnemiornis calcitrans', 'Colaptes auratus', 'Colinus virginianus', 'Columba livia', 'Colymbus nigricollis', 'Corvus corax', 'Coturnix novaezelandiae', 'Cyanocitta cristata', 'Dasyornis brachypterus', 'Dendragapus obscurus', 'Dendrocygna arborea', 'Dendrocygna autumnalis', 'Dinornis struthoides', 'Ectopistes migratorius', 'Emeus crassus', 'Eudyptes pachyrhynchus', 'Eudyptula minor', 'Euryapteryx geranoides', 'Falco cenchroides', 'Falco mexicanus', 'Falco sparverius', 'Fratercula arctica', 'Fratercula cirrhata', 'Fratercula corniculata', 'Fregata ariel', 'Fregata minor', 'Fulica americana', 'Fulica podagrica', 'Fulica prisca', 'Fulmarus glacialis', 'Gallinula chloropus', 'Gallinula mortierii', 'Gallirallus australis', 'Gallus gallus', 'Gavia immer', 'Geochen rhuax', 'Glossopsitta concinna', 'Grallistrix auceps', 'Grallistrix erdmani', 'Grus canadensis', 'Grus grus', 'Gygis alba', 'Haliaeetus albicilla', 'Haliaeetus leucocephalus', 'Hemiphaga novaeseelandiae', 'Larus dominicanus', 'Larus novaehollandiae', 'Megadyptes waitaha', 'Melanitta fusca', 'Melanitta nigra', 'Meleagris gallopavo', 'Melospiza melodia', 'Mergus merganser', 'Mergus serrator', 'Moho braccatus', 'Nannococcyx psix', 'Neochen barbadiana', 'Numenius tahitiensis', 'Nyctanassa violacea', 'Oceanodroma castro', 'Otus asio', 'Pachyornis elephantopus', 'Papasula abbotti', 'Pelagodroma marina', 'Pelecanus cadimurka', 'Pelecanus proavus', 'Pelecanus tirarensis', 'Petroica australis', 'Phaethon aethereus', 'Phaethon lepturus', 'Phalacrocorax carbo', 'Phalacrocorax pelagicus', 'Phaps chalcoptera', 'Phaps elegans', 'Pinguinus impennis', 'Platycercus elegans', 'Podilymbus podiceps', 'Porzana astrictocarpus', 'Porzana keplerorum', 'Porzana menehune', 'Porzana severnsi', 'Prosthemadera novaeseelandiae', 'Ptaiochen pau', 'Pterodroma cahow', 'Pterodroma hypoleuca', 'Pterodroma rupinarum', 'Ptilonorhynchus violaceus', 'Ptychoramphus aleuticus', 'Puffinus lherminieri', 'Puffinus pacificus', 'Puffinus spelaeus', 'Pygoscelis papua', 'Rallus longirostris', 'Rallus philippensis', 'Raphus cucullatus', 'Rhea americana', 'Rhipidura fuliginosa', 'Rissa tridactyla', 'Sceloglaux albifacies', 'Somateria mollissima', 'Spheniscus demersus', 'Sterna fuscata', 'Struthio camelus', 'Sula dactylatra', 'Sula sula', 'Synthliboramphus antiquus', 'Teratornis merriami', 'Turdus migratorius', 'Turnagra capensis', 'Turnix varia', 'Tyto alba', 'Uria aalge', 'Uria lomvia', 'Zenaida macroura']\n",
      "['Acinonyx jubatus', 'Alopex lagopus', 'Amblonyx cinerea', 'Antrozous pallidus', 'Aonyx capensis', 'Arctocephalus forsteri', 'Arctocephalus gazella', 'Arctocephalus pusillus', 'Arctocephalus townsendi', 'Arctodus simus', 'Arctotherium (Pararctotherium) brasiliense', 'Arctotherium wingei', 'Artibeus jamaicensis', 'Atilax paludinosus', 'Bassaricyon gabbii', 'Bassariscus astutus', 'Blarina brevicauda', 'Brachyprotoma obtusata', 'Callorhinus ursinus', 'Canis adustus', 'Canis anthus', 'Canis aureus', 'Canis familiaris', 'Canis latrans', 'Canis lupus', 'Canis mesomelas', 'Caracal caracal', 'Caracal serval', 'Cerdocyon thous', 'Chrotopterus auritus', 'Chrysocyon brachyurus', 'Civettictis civetta', 'Conepatus semistriatus', 'Crocuta crocuta', 'Cryptoprocta ferox', 'Cryptotis parva', 'Cubacyon transversidens', 'Cynictis penicillata', 'Cystophora cristata', 'Desmodus draculae', 'Desmodus rotundus', 'Eira barbara', 'Enhydra lutris', 'Eptesicus fuscus', 'Erignathus barbatus', 'Eumetopias jubata', 'Eumops glaucinus', 'Eumops perotis', 'Felis libyca', 'Felis silvestris', 'Fossa fossana', 'Galictis vittata', 'Genetta genetta', 'Genetta tigrina', 'Gulo gulo', 'Halichoerus grypus', 'Herpestes ichneumon', 'Herpestes pulverulentus', 'Herpestes sanguineus', 'Histriophoca fasciata', 'Hyaena hyaena', 'Hydrurga leptonyx', 'Ichneumia albicauda', 'Ictonyx striatus', 'Lasionycteris noctivagans', 'Lasiurus borealis', 'Leopardus braccatus', 'Leopardus pardalis', 'Leopardus tigrinus', 'Leopardus wiedii', 'Leptonychotes weddelli', 'Lobodon carcinophaga', 'Lontra canadensis', 'Lontra longicaudis', 'Lutra lutra', 'Lutra maculicollis', 'Lycaon pictus', 'Lynx lynx', 'Lynx rufus', 'Martes martes', 'Martes zibellina', 'Meles meles', 'Mellivora capensis', 'Mephitis macroura', 'Mephitis mephitis', 'Mirounga angustirostris', 'Mirounga leonina', 'Monachus monachus', 'Mungos mungo', 'Mustela americana', 'Mustela erminea', 'Mustela frenata', 'Mustela nigripes', 'Mustela nivalis', 'Mustela vison', 'Myotis grisescens', 'Myotis lucifugus', 'Myotis velifer', 'Nasua nasua', 'Neomonachus schauinslandi', 'Neomonachus tropicalis', 'Neomys fodiens', 'Neophoca cinerea', 'Noctilio albiventris', 'Noctilio leporinus', 'Notiosorex crawfordi', 'Nyctereutes procyonoides', 'Odobenus rosmarus', 'Ommatophoca rossii', 'Otaria byronia', 'Otocyon megalotis', 'Pagophilus groenlandica', 'Paguma larvata', 'Panthera leo', 'Panthera onca', 'Panthera pardus', 'Panthera tigris', 'Parahyaena brunnea', 'Pekania pennanti', 'Phoca caspica', 'Phoca hispida', 'Phoca largha', 'Phoca vitulina', 'Phocarctos hookeri', 'Pipistrellus hesperus', 'Pipistrellus subflavus', 'Plecotus townsendii', 'Potos flavus', 'Procyon cancrivorus', 'Procyon lotor', 'Protocyon troglodytes', 'Pseudalopex gymnocercus', 'Pteronura brasiliensis', 'Puma concolor', 'Puma yagouaroundi', 'Pusa hispida', 'Pusa sibirica', 'Sardolutra ichnusae', 'Smilodon fatalis', 'Smilodon populator', 'Sorex arcticus', 'Sorex cinereus', 'Sorex dispar', 'Sorex fumeus', 'Sorex hoyi', 'Sorex palustris', 'Speothos venaticus', 'Spilogale putorius', 'Tadarida brasiliensis', 'Taxidea taxus', 'Trachops cirrhosus', 'Tremarctos floridanus', 'Urocyon cinereoargenteus', 'Ursus americanus', 'Ursus arctos', 'Ursus maritimus', 'Vulpes chama', 'Vulpes velox', 'Vulpes vulpes', 'Zalophus californianus']\n"
     ]
    }
   ],
   "source": [
    "extant_species_list(\"cleaned-aves.csv\")\n",
    "extant_species_list(\"cleaned_laura.csv\")"
   ]
  },
  {
   "cell_type": "code",
   "execution_count": null,
   "metadata": {
    "collapsed": true
   },
   "outputs": [],
   "source": []
  }
 ],
 "metadata": {
  "anaconda-cloud": {},
  "kernelspec": {
   "display_name": "Python [default]",
   "language": "python",
   "name": "python3"
  },
  "language_info": {
   "codemirror_mode": {
    "name": "ipython",
    "version": 3
   },
   "file_extension": ".py",
   "mimetype": "text/x-python",
   "name": "python",
   "nbconvert_exporter": "python",
   "pygments_lexer": "ipython3",
   "version": "3.5.2"
  }
 },
 "nbformat": 4,
 "nbformat_minor": 2
}
