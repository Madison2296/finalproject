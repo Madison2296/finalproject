{
 "cells": [
  {
   "cell_type": "code",
   "execution_count": 1,
   "metadata": {
    "collapsed": true
   },
   "outputs": [],
   "source": [
    "def locations(openfile, writefile):\n",
    "    newfile = openfile\n",
    "    output = open(writefile, \"w\")\n",
    "    with open(newfile, 'r') as ff:\n",
    "        readfile = ff.readlines() # open and read file\n",
    "    for line in readfile: #go through each line\n",
    "        taxon = line.split(\",\")[9]\n",
    "        if taxon == '\"species\"': #only continue if the line contains a species\n",
    "            species = line.split(\",\")[8].replace('\"','') #extract species names\n",
    "            genus = species.split(\" \")[0] #extract genus name\n",
    "            lat = line.split(\",\")[18].replace('\"','') #extract latitude\n",
    "            lng = line.split(\",\")[17].replace('\"','') #extract longitude\n",
    "            outline = \"{},{},{}\\n\".format(genus,lat,lng) \n",
    "            print(outline)\n",
    "            output.write(outline) #write data to the file\n",
    "    output.close()"
   ]
  },
  {
   "cell_type": "code",
   "execution_count": 5,
   "metadata": {
    "collapsed": false
   },
   "outputs": [
    {
     "name": "stdout",
     "output_type": "stream",
     "text": [
      "Ornimegalonyx,22.583332,-83.666664\n",
      "\n",
      "Anhinga,29.700001,-82.599998\n",
      "\n",
      "Promilio,29.700001,-82.599998\n",
      "\n",
      "Buteo,40.900002,-104.866669\n",
      "\n",
      "Hadrogyps,35.299999,-118.500000\n",
      "\n",
      "Primapus,50.783333,-0.683333\n",
      "\n",
      "Primapus,51.400002,0.833333\n",
      "\n"
     ]
    }
   ],
   "source": [
    "locations('presentation_file.csv', 'test.csv')"
   ]
  },
  {
   "cell_type": "code",
   "execution_count": null,
   "metadata": {
    "collapsed": true
   },
   "outputs": [],
   "source": []
  }
 ],
 "metadata": {
  "anaconda-cloud": {},
  "kernelspec": {
   "display_name": "Python [default]",
   "language": "python",
   "name": "python3"
  },
  "language_info": {
   "codemirror_mode": {
    "name": "ipython",
    "version": 3
   },
   "file_extension": ".py",
   "mimetype": "text/x-python",
   "name": "python",
   "nbconvert_exporter": "python",
   "pygments_lexer": "ipython3",
   "version": "3.5.2"
  }
 },
 "nbformat": 4,
 "nbformat_minor": 2
}
